{
 "cells": [
  {
   "cell_type": "markdown",
   "id": "e58f50c5",
   "metadata": {},
   "source": [
    "<h1>Facebook market analyzer</h1>\n",
    "<p>\n",
    "    I want to use the tools learn through the course to reasearch the automobil market in the area where I am located which is the state of Illinois\n",
    "    \n",
    "    Right now if I want to purchase a car I have to look up through the facebook market and see the search results for car and get filtered by the facebook algorythm. However I would like to analize a bigger size of data from. the facebook market\n",
    "    \n",
    "    I also noticed that people \n",
    "    \n",
    "    \n",
    "    \n",
    "    Questions:\n",
    "    \n",
    "    what is the most offered car in the current market\n",
    "    what is the average milleage of a used car in the market\n",
    "    \n",
    "    \n",
    "    I consider myself a car enthusiast and I have been able to purchase a couple of cars that have given me experience to understand the market. However, I wanna know which cars are the ones that pops up the most in the area where I'm located which is ChicagoFacebook market is</p>"
   ]
  },
  {
   "cell_type": "code",
   "execution_count": 2,
   "id": "100faa88",
   "metadata": {},
   "outputs": [
    {
     "ename": "ModuleNotFoundError",
     "evalue": "No module named 'webdriver_manager'",
     "output_type": "error",
     "traceback": [
      "\u001b[0;31m---------------------------------------------------------------------------\u001b[0m",
      "\u001b[0;31mModuleNotFoundError\u001b[0m                       Traceback (most recent call last)",
      "Cell \u001b[0;32mIn[2], line 1\u001b[0m\n\u001b[0;32m----> 1\u001b[0m \u001b[38;5;28;01mfrom\u001b[39;00m \u001b[38;5;21;01mwebdriver_manager\u001b[39;00m\u001b[38;5;21;01m.\u001b[39;00m\u001b[38;5;21;01mchrome\u001b[39;00m \u001b[38;5;28;01mimport\u001b[39;00m ChromeDriverManager\n\u001b[1;32m      3\u001b[0m service \u001b[38;5;241m=\u001b[39m ChromeService(executable_path\u001b[38;5;241m=\u001b[39mChromeDriverManager()\u001b[38;5;241m.\u001b[39minstall())\n\u001b[1;32m      5\u001b[0m driver \u001b[38;5;241m=\u001b[39m webdriver\u001b[38;5;241m.\u001b[39mChrome(service\u001b[38;5;241m=\u001b[39mservice)\n",
      "\u001b[0;31mModuleNotFoundError\u001b[0m: No module named 'webdriver_manager'"
     ]
    }
   ],
   "source": [
    "from selenium.webdriver.chrome.service import Service\n",
    "from selenium import webdriver\n",
    "from selenium.webdriver.common.by import By\n",
    "\n",
    "service = Service(executable_path='/Users/erickgonzalez/chromedriver')\n",
    "driver = webdriver.Chrome(service=service)\n",
    "\n",
    "url = \"https://www.facebook.com/\"\n",
    "driver.get(url)"
   ]
  },
  {
   "cell_type": "code",
   "execution_count": null,
   "id": "69676248",
   "metadata": {},
   "outputs": [],
   "source": []
  },
  {
   "cell_type": "code",
   "execution_count": null,
   "id": "deac897b",
   "metadata": {},
   "outputs": [],
   "source": []
  }
 ],
 "metadata": {
  "kernelspec": {
   "display_name": "Python 3 (ipykernel)",
   "language": "python",
   "name": "python3"
  },
  "language_info": {
   "codemirror_mode": {
    "name": "ipython",
    "version": 3
   },
   "file_extension": ".py",
   "mimetype": "text/x-python",
   "name": "python",
   "nbconvert_exporter": "python",
   "pygments_lexer": "ipython3",
   "version": "3.10.7"
  }
 },
 "nbformat": 4,
 "nbformat_minor": 5
}
