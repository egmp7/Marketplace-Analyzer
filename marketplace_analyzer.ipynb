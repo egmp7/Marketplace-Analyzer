{
 "cells": [
  {
   "cell_type": "markdown",
   "id": "e58f50c5",
   "metadata": {},
   "source": [
    "<h1>Facebook Marketplace Analyzer</h1>\n",
    "\n",
    "<h2>Intro:</h2>\n",
    "\n",
    "<p>Market analysis is a tool most companies use for an informed decision, usually aspiring to avoid losing time and money. These are a few advantages when pursuing qualitative research: Market analysis may offer better opportunities, reveal competition structure, and explore the target audience’s desires (Sergey Ermakovich). This report will conduct a market analysis of the automobile industry in the Facebook Marketplace. By applying computational techniques to filter out the best vehicles according to conditions such as price, mileage, and age. The objective is to highlight the ideal candidates in the current market for purchase.</p>\n",
    "\n",
    "<h2>Background:</h2>\n",
    "\n",
    "<p>I have been able to purchase a couple of vehicles using the Facebook Marketplace in the past because one of my hobbies is working on cars. Facebook market is my preference when looking at the vehicle market in Illinois. However, the search engine presents limitations when representing big data from the products offered. Questions such as: Is this the best price for a specific car model and year on the current market? Arise when purchasing a vehicle. Looking at every product on Facebook is time-consuming and challenging. Therefore, I want to use the tools learned from this course to assist one in making a more informed decision when purchasing a car.</p>\n",
    "\n",
    "<h2>Objectives:</h2>\n",
    "\n",
    "<ol> \n",
    "    <li>Create an algorithm that web-scraps Facebook Marketplace and stores data in a CSV file.</li>\n",
    "    <li>Create the necessary functions to process data into the scope of the research.</li>\n",
    "    <li>Filter and count the most offered vehicles in Illinois.</li>\n",
    "    <li>Find the average mileage of vehicles per year and manufacturer.</li>\n",
    "    <li>Find the average sell price of vehicles per year and manufacturer.</li>\n",
    "    <li>Reflect on the results and determine if the vehicle is worth it or not.</li>\n",
    "</ol>\n",
    "\n",
    "<h2>Why Facebook Marketplace and not others:</h2>\n",
    "\n",
    "<p>There are several websites to search used vehicles, some offering more information than others. However, the app designed for this project only scraps Facebook Marketplace. One of the reasons is that Facebook Marketplace has more active users than Craiglist (CNBC). Another reason is due to my own experience. The Marketplace allows users to communicate with sellers through messenger. This method tends to be faster than other platforms such as Craiglist. Quick and trustful communication are keys when setting an inspection with a vendor. </p>\n",
    "\n",
    "<h2>The app</h2>\n",
    "\n",
    "<p>The Facebook analyzer app scraps the Facebook Marketplace through the Selenium module and stores the data into a CSV file.</p>"
   ]
  },
  {
   "cell_type": "markdown",
   "id": "ee1cc824",
   "metadata": {},
   "source": [
    "<em>Setting the Selenium module</em>"
   ]
  },
  {
   "cell_type": "code",
   "execution_count": 1,
   "id": "100faa88",
   "metadata": {},
   "outputs": [],
   "source": [
    "from selenium.webdriver.chrome.service import Service\n",
    "from selenium import webdriver\n",
    "from selenium.webdriver.common.by import By\n",
    "\n",
    "service = Service(executable_path='/Users/erickgonzalez/chromedriver')\n",
    "driver = webdriver.Chrome(service=service)\n",
    "\n",
    "url = \"https://www.facebook.com/\"\n",
    "driver.get(url)"
   ]
  },
  {
   "cell_type": "markdown",
   "id": "df146557",
   "metadata": {},
   "source": [
    "<em>Get Facebook Marketplace URL with car search:</em>"
   ]
  },
  {
   "cell_type": "code",
   "execution_count": 2,
   "id": "69676248",
   "metadata": {},
   "outputs": [],
   "source": [
    "url = \"https://www.facebook.com/marketplace/category/carros/\"\n",
    "driver.get(url)"
   ]
  },
  {
   "cell_type": "code",
   "execution_count": null,
   "id": "deac897b",
   "metadata": {},
   "outputs": [],
   "source": [
    "url = 'asdas';\n",
    "url += 13 + url;\n",
    "print (url)"
   ]
  },
  {
   "cell_type": "code",
   "execution_count": null,
   "id": "6644c8c1",
   "metadata": {},
   "outputs": [],
   "source": []
  }
 ],
 "metadata": {
  "kernelspec": {
   "display_name": "Python 3 (ipykernel)",
   "language": "python",
   "name": "python3"
  },
  "language_info": {
   "codemirror_mode": {
    "name": "ipython",
    "version": 3
   },
   "file_extension": ".py",
   "mimetype": "text/x-python",
   "name": "python",
   "nbconvert_exporter": "python",
   "pygments_lexer": "ipython3",
   "version": "3.10.7"
  }
 },
 "nbformat": 4,
 "nbformat_minor": 5
}
